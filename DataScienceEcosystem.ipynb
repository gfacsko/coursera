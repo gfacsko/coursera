{
 "cells": [
  {
   "cell_type": "markdown",
   "id": "2b6a080d",
   "metadata": {},
   "source": [
    "# Data Science Tools and Ecosystem "
   ]
  },
  {
   "cell_type": "markdown",
   "id": "93ce0e60",
   "metadata": {},
   "source": [
    "In this notebook, Data Science Tools and Ecosystem are summarized."
   ]
  },
  {
   "cell_type": "markdown",
   "id": "0de661f0",
   "metadata": {},
   "source": [
    " Some of the popular languages that Data Scientists use are:\n",
    "    \n",
    " 1. Python\n",
    " 2. R\n",
    " 3. SQL\n",
    " 4. Scala\n",
    " 5. Java\n",
    " 6. C++\n",
    " 7. Julia\n",
    " 8. Javascript\n",
    " 9. Php\n",
    " 10. Go\n",
    " 11. Ruby\n",
    " 12. Visual Basic"
   ]
  },
  {
   "cell_type": "markdown",
   "id": "ab85175e",
   "metadata": {},
   "source": [
    "Some of the commonly used libraries used by Data Scientists include: \n",
    "    \n",
    " 1. Pandas\n",
    " 2. Numpy\n",
    " 3. Matplotlib\n",
    " 4. Seaborn\n",
    " 5. Scikit-learn\n",
    " 6. Kera\n",
    " 7. TensorFlow\n",
    " 8. PyTorch\n",
    " 9. Apache Spark\n",
    " 10. Vegas\n",
    " 11. Big DL\n",
    " 12. Ggplot2"
   ]
  },
  {
   "cell_type": "markdown",
   "id": "68a8a09d",
   "metadata": {},
   "source": [
    "|Data Science Tools|\n",
    "|:---:|\n",
    "|Anaconda|\n",
    "|JupyterNotebooks|\n",
    "|R Studio|\n",
    "|Spyder|\n",
    "|Zeppelin|"
   ]
  },
  {
   "cell_type": "markdown",
   "id": "9f3d7e2e",
   "metadata": {},
   "source": [
    "### Below are a few examples of evaluating arithmetic expressions in Python:"
   ]
  },
  {
   "cell_type": "markdown",
   "id": "794da5f6",
   "metadata": {},
   "source": [
    "This a simple arithmetic expression to mutiply then add integers"
   ]
  },
  {
   "cell_type": "code",
   "execution_count": 4,
   "id": "ea65fe20",
   "metadata": {},
   "outputs": [
    {
     "data": {
      "text/plain": [
       "17"
      ]
     },
     "execution_count": 4,
     "metadata": {},
     "output_type": "execute_result"
    }
   ],
   "source": [
    "(3*4)+5"
   ]
  },
  {
   "cell_type": "markdown",
   "id": "9be735ac",
   "metadata": {},
   "source": [
    "This will convert 200 minutes to hours by diving by 60"
   ]
  },
  {
   "cell_type": "code",
   "execution_count": 5,
   "id": "f9df8816",
   "metadata": {},
   "outputs": [
    {
     "data": {
      "text/plain": [
       "3.3333333333333335"
      ]
     },
     "execution_count": 5,
     "metadata": {},
     "output_type": "execute_result"
    }
   ],
   "source": [
    "200/60"
   ]
  },
  {
   "cell_type": "markdown",
   "id": "f7d1a065",
   "metadata": {},
   "source": [
    "Objectives: \n",
    "    \n",
    " * Add comment to codes\n",
    " * Create markdown cells\n",
    " * Add ordered and unordered lists to markdown cells\n",
    " * Format content ofmardown cells with heading styles"
   ]
  },
  {
   "cell_type": "markdown",
   "id": "f808f105",
   "metadata": {},
   "source": [
    "## Author\n",
    "\n",
    "Dr. Gabor FACSKO"
   ]
  }
 ],
 "metadata": {
  "kernelspec": {
   "display_name": "Python 3 (ipykernel)",
   "language": "python",
   "name": "python3"
  },
  "language_info": {
   "codemirror_mode": {
    "name": "ipython",
    "version": 3
   },
   "file_extension": ".py",
   "mimetype": "text/x-python",
   "name": "python",
   "nbconvert_exporter": "python",
   "pygments_lexer": "ipython3",
   "version": "3.12.3"
  }
 },
 "nbformat": 4,
 "nbformat_minor": 5
}
