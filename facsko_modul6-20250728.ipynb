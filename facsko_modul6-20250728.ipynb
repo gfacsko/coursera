{
 "cells": [
  {
   "cell_type": "markdown",
   "id": "5c7d655c",
   "metadata": {},
   "source": [
    "Feladat:\n",
    "\n",
    "2. gyakorlat - Hozzon létre egy markdown cellát a jegyzetfüzet címével. (1 pont)"
   ]
  },
  {
   "cell_type": "markdown",
   "id": "ccf4609a",
   "metadata": {},
   "source": [
    "## Facskó Gábor jegyzetfüzete"
   ]
  },
  {
   "cell_type": "markdown",
   "id": "ef55671b",
   "metadata": {},
   "source": [
    "3. gyakorlat - Hozzon létre egy markdown cellát a bevezetőhöz. (1 pont)"
   ]
  },
  {
   "cell_type": "markdown",
   "id": "5a067f9c",
   "metadata": {},
   "source": [
    "# Bevezető"
   ]
  },
  {
   "cell_type": "markdown",
   "id": "e527d39d",
   "metadata": {},
   "source": [
    "4. gyakorlat - Hozzon létre egy markdown cellát az adattudományi nyelvek felsorolásához. (3 pont)"
   ]
  },
  {
   "cell_type": "markdown",
   "id": "34051676",
   "metadata": {},
   "source": [
    " * R\n",
    " * Python\n",
    " * Scala\n",
    " * Java\n",
    " * C#"
   ]
  },
  {
   "cell_type": "markdown",
   "id": "8522f5bb",
   "metadata": {},
   "source": [
    "5. gyakorlat - Hozzon létre egy markdown-cellát az adattudományi könyvtárak felsorolásához. (3 pont)"
   ]
  },
  {
   "cell_type": "markdown",
   "id": "1d4c103a",
   "metadata": {},
   "source": [
    " * TensorFlow\n",
    " * SciKit\n",
    " * Panda"
   ]
  },
  {
   "cell_type": "markdown",
   "id": "8775976e",
   "metadata": {},
   "source": [
    "6. gyakorlat - Hozzon létre egy markdown-cellát az adattudományi eszközök táblázatával. (3 pont)"
   ]
  },
  {
   "cell_type": "markdown",
   "id": "fc0bf28c",
   "metadata": {},
   "source": [
    "|adattudományi eszköz| név   | verzió  |\n",
    "|:---:|:---:|:---:|\n",
    "|hadoop              | hadoop|1.0     |"
   ]
  },
  {
   "cell_type": "markdown",
   "id": "1691f629",
   "metadata": {},
   "source": [
    "7. gyakorlat - Hozzon létre egy aritmetikai kifejezéseket bemutató markdown-cellát. (1 pont)"
   ]
  },
  {
   "cell_type": "markdown",
   "id": "36957f38",
   "metadata": {},
   "source": [
    "2+3\n",
    "3-2\n",
    "2*3\n",
    "4/2"
   ]
  },
  {
   "cell_type": "markdown",
   "id": "a1ad8270",
   "metadata": {},
   "source": [
    "8. gyakorlat - Hozzon létre egy kódcellát számok szorzására "
   ]
  },
  {
   "cell_type": "code",
   "execution_count": 14,
   "id": "201ff462",
   "metadata": {},
   "outputs": [
    {
     "data": {
      "text/plain": [
       "6"
      ]
     },
     "execution_count": 14,
     "metadata": {},
     "output_type": "execute_result"
    }
   ],
   "source": [
    "2*3"
   ]
  },
  {
   "cell_type": "markdown",
   "id": "d5f9d686",
   "metadata": {},
   "source": [
    "8. gyakorlat - Hozzon létre egy kódcellát számok szorzására és összeadására. (2 pts)"
   ]
  },
  {
   "cell_type": "code",
   "execution_count": 16,
   "id": "e897c936",
   "metadata": {},
   "outputs": [
    {
     "name": "stdout",
     "output_type": "stream",
     "text": [
      "5\n",
      "6\n"
     ]
    }
   ],
   "source": [
    "print(2+3)\n",
    "print(2*3)"
   ]
  },
  {
   "cell_type": "markdown",
   "id": "4cbd4fcb",
   "metadata": {},
   "source": [
    "9. gyakorlat - Hozzon létre egy kódcellát a percek órákra történő átváltásához. (2 pont)"
   ]
  },
  {
   "cell_type": "code",
   "execution_count": 22,
   "id": "f9df8816",
   "metadata": {},
   "outputs": [
    {
     "name": "stdout",
     "output_type": "stream",
     "text": [
      "2 h 55 m\n"
     ]
    }
   ],
   "source": [
    "perc=115\n",
    "print(round(perc/60),\"h\",perc%60,\"m\")\n"
   ]
  },
  {
   "cell_type": "markdown",
   "id": "eb7b2cc2",
   "metadata": {},
   "source": [
    "10. gyakorlat -Készítsen egy markdown-cellát a célok felsorolásához. (3 pont)"
   ]
  },
  {
   "cell_type": "markdown",
   "id": "143e6977",
   "metadata": {},
   "source": [
    " * 1. cél\n",
    " * 2. cél\n",
    " * 3. cél\n",
    " * 4. cél"
   ]
  },
  {
   "cell_type": "markdown",
   "id": "67761689",
   "metadata": {},
   "source": [
    "11. gyakorlat - Hozzon létre egy markdown-cellát a Szerző nevének feltüntetésére. (2 pont)"
   ]
  },
  {
   "cell_type": "markdown",
   "id": "7307a30d",
   "metadata": {},
   "source": [
    "# Készítette: Dr. FACSKÓ Gábor"
   ]
  },
  {
   "cell_type": "markdown",
   "id": "28685354",
   "metadata": {},
   "source": [
    "12. gyakorlat - Ossza meg a jegyzetfüzetét a GitHubon keresztül (3 pont)"
   ]
  },
  {
   "cell_type": "markdown",
   "id": "6a9c27e3",
   "metadata": {},
   "source": [
    "13. gyakorlat - Készítsen képernyőképet a jegyzetfüzet első oldaláról. (1 pont)"
   ]
  }
 ],
 "metadata": {
  "kernelspec": {
   "display_name": "Python 3 (ipykernel)",
   "language": "python",
   "name": "python3"
  },
  "language_info": {
   "codemirror_mode": {
    "name": "ipython",
    "version": 3
   },
   "file_extension": ".py",
   "mimetype": "text/x-python",
   "name": "python",
   "nbconvert_exporter": "python",
   "pygments_lexer": "ipython3",
   "version": "3.12.3"
  }
 },
 "nbformat": 4,
 "nbformat_minor": 5
}
